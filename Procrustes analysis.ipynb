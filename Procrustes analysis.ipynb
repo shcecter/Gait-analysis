{
 "cells": [
  {
   "cell_type": "code",
   "execution_count": 1,
   "metadata": {},
   "outputs": [],
   "source": [
    "import numpy as np\n",
    "import matplotlib.pyplot as plt\n",
    "import pandas as pd\n",
    "\n",
    "\n",
    "%matplotlib inline"
   ]
  },
  {
   "cell_type": "code",
   "execution_count": 2,
   "metadata": {},
   "outputs": [
    {
     "data": {
      "text/html": [
       "<div>\n",
       "<style scoped>\n",
       "    .dataframe tbody tr th:only-of-type {\n",
       "        vertical-align: middle;\n",
       "    }\n",
       "\n",
       "    .dataframe tbody tr th {\n",
       "        vertical-align: top;\n",
       "    }\n",
       "\n",
       "    .dataframe thead tr th {\n",
       "        text-align: left;\n",
       "    }\n",
       "</style>\n",
       "<table border=\"1\" class=\"dataframe\">\n",
       "  <thead>\n",
       "    <tr>\n",
       "      <th></th>\n",
       "      <th colspan=\"9\" halign=\"left\">right</th>\n",
       "      <th colspan=\"9\" halign=\"left\">left</th>\n",
       "    </tr>\n",
       "    <tr>\n",
       "      <th></th>\n",
       "      <th colspan=\"3\" halign=\"left\">hip</th>\n",
       "      <th colspan=\"3\" halign=\"left\">knee</th>\n",
       "      <th colspan=\"3\" halign=\"left\">ankle</th>\n",
       "      <th colspan=\"3\" halign=\"left\">hip</th>\n",
       "      <th colspan=\"3\" halign=\"left\">knee</th>\n",
       "      <th colspan=\"3\" halign=\"left\">ankle</th>\n",
       "    </tr>\n",
       "    <tr>\n",
       "      <th></th>\n",
       "      <th>x</th>\n",
       "      <th>y</th>\n",
       "      <th>app</th>\n",
       "      <th>x</th>\n",
       "      <th>y</th>\n",
       "      <th>app</th>\n",
       "      <th>x</th>\n",
       "      <th>y</th>\n",
       "      <th>app</th>\n",
       "      <th>x</th>\n",
       "      <th>y</th>\n",
       "      <th>app</th>\n",
       "      <th>x</th>\n",
       "      <th>y</th>\n",
       "      <th>app</th>\n",
       "      <th>x</th>\n",
       "      <th>y</th>\n",
       "      <th>app</th>\n",
       "    </tr>\n",
       "  </thead>\n",
       "  <tbody>\n",
       "    <tr>\n",
       "      <th>0</th>\n",
       "      <td>0.004684</td>\n",
       "      <td>1.50</td>\n",
       "      <td>NaN</td>\n",
       "      <td>0.017456</td>\n",
       "      <td>1.001898</td>\n",
       "      <td>NaN</td>\n",
       "      <td>0.009828</td>\n",
       "      <td>-0.771657</td>\n",
       "      <td>NaN</td>\n",
       "      <td>0.009524</td>\n",
       "      <td>0.470588</td>\n",
       "      <td>NaN</td>\n",
       "      <td>0.007211</td>\n",
       "      <td>0.248197</td>\n",
       "      <td>NaN</td>\n",
       "      <td>0.004717</td>\n",
       "      <td>-0.751179</td>\n",
       "      <td>NaN</td>\n",
       "    </tr>\n",
       "    <tr>\n",
       "      <th>1</th>\n",
       "      <td>0.014396</td>\n",
       "      <td>2.25</td>\n",
       "      <td>NaN</td>\n",
       "      <td>0.024938</td>\n",
       "      <td>2.509450</td>\n",
       "      <td>NaN</td>\n",
       "      <td>0.024570</td>\n",
       "      <td>-0.767853</td>\n",
       "      <td>NaN</td>\n",
       "      <td>0.030952</td>\n",
       "      <td>-0.235294</td>\n",
       "      <td>NaN</td>\n",
       "      <td>0.014521</td>\n",
       "      <td>1.996370</td>\n",
       "      <td>NaN</td>\n",
       "      <td>0.018868</td>\n",
       "      <td>-0.504717</td>\n",
       "      <td>NaN</td>\n",
       "    </tr>\n",
       "    <tr>\n",
       "      <th>2</th>\n",
       "      <td>0.026720</td>\n",
       "      <td>2.00</td>\n",
       "      <td>NaN</td>\n",
       "      <td>0.032419</td>\n",
       "      <td>4.268574</td>\n",
       "      <td>NaN</td>\n",
       "      <td>0.044226</td>\n",
       "      <td>-0.504716</td>\n",
       "      <td>NaN</td>\n",
       "      <td>0.050000</td>\n",
       "      <td>-1.176471</td>\n",
       "      <td>NaN</td>\n",
       "      <td>0.021816</td>\n",
       "      <td>3.494546</td>\n",
       "      <td>NaN</td>\n",
       "      <td>0.025943</td>\n",
       "      <td>-0.006486</td>\n",
       "      <td>NaN</td>\n",
       "    </tr>\n",
       "    <tr>\n",
       "      <th>3</th>\n",
       "      <td>0.039158</td>\n",
       "      <td>1.00</td>\n",
       "      <td>NaN</td>\n",
       "      <td>0.047382</td>\n",
       "      <td>5.271099</td>\n",
       "      <td>NaN</td>\n",
       "      <td>0.063882</td>\n",
       "      <td>0.274550</td>\n",
       "      <td>NaN</td>\n",
       "      <td>0.066667</td>\n",
       "      <td>-1.647059</td>\n",
       "      <td>NaN</td>\n",
       "      <td>0.026712</td>\n",
       "      <td>4.993322</td>\n",
       "      <td>NaN</td>\n",
       "      <td>0.037736</td>\n",
       "      <td>0.990566</td>\n",
       "      <td>NaN</td>\n",
       "    </tr>\n",
       "    <tr>\n",
       "      <th>4</th>\n",
       "      <td>0.051635</td>\n",
       "      <td>-0.25</td>\n",
       "      <td>NaN</td>\n",
       "      <td>0.059850</td>\n",
       "      <td>6.274251</td>\n",
       "      <td>NaN</td>\n",
       "      <td>0.081081</td>\n",
       "      <td>0.537053</td>\n",
       "      <td>NaN</td>\n",
       "      <td>0.085714</td>\n",
       "      <td>-2.352941</td>\n",
       "      <td>NaN</td>\n",
       "      <td>0.031608</td>\n",
       "      <td>6.492098</td>\n",
       "      <td>NaN</td>\n",
       "      <td>0.051887</td>\n",
       "      <td>1.487028</td>\n",
       "      <td>NaN</td>\n",
       "    </tr>\n",
       "  </tbody>\n",
       "</table>\n",
       "</div>"
      ],
      "text/plain": [
       "      right                                                            \\\n",
       "        hip                knee                   ankle                 \n",
       "          x     y app         x         y app         x         y app   \n",
       "0  0.004684  1.50 NaN  0.017456  1.001898 NaN  0.009828 -0.771657 NaN   \n",
       "1  0.014396  2.25 NaN  0.024938  2.509450 NaN  0.024570 -0.767853 NaN   \n",
       "2  0.026720  2.00 NaN  0.032419  4.268574 NaN  0.044226 -0.504716 NaN   \n",
       "3  0.039158  1.00 NaN  0.047382  5.271099 NaN  0.063882  0.274550 NaN   \n",
       "4  0.051635 -0.25 NaN  0.059850  6.274251 NaN  0.081081  0.537053 NaN   \n",
       "\n",
       "       left                                                                \n",
       "        hip                    knee                   ankle                \n",
       "          x         y app         x         y app         x         y app  \n",
       "0  0.009524  0.470588 NaN  0.007211  0.248197 NaN  0.004717 -0.751179 NaN  \n",
       "1  0.030952 -0.235294 NaN  0.014521  1.996370 NaN  0.018868 -0.504717 NaN  \n",
       "2  0.050000 -1.176471 NaN  0.021816  3.494546 NaN  0.025943 -0.006486 NaN  \n",
       "3  0.066667 -1.647059 NaN  0.026712  4.993322 NaN  0.037736  0.990566 NaN  \n",
       "4  0.085714 -2.352941 NaN  0.031608  6.492098 NaN  0.051887  1.487028 NaN  "
      ]
     },
     "execution_count": 2,
     "metadata": {},
     "output_type": "execute_result"
    }
   ],
   "source": [
    "pat_df = pd.read_excel('sheetdata/United data.xlsx', sheet_name='baskakova', header=[0, 1, 2])\n",
    "pat_df.head()"
   ]
  },
  {
   "cell_type": "code",
   "execution_count": 5,
   "metadata": {},
   "outputs": [],
   "source": [
    "rkx = pat_df['right']['knee']['x'].dropna().values\n",
    "rky = pat_df['right']['knee']['y'].dropna().values\n",
    "rky[-1] = rky[0]\n",
    "rhx = pat_df['right']['hip']['x'].dropna().values\n",
    "rhy = pat_df['right']['hip']['y'].dropna().values\n",
    "lkx = pat_df['left']['knee']['x'].dropna().values\n",
    "lky = pat_df['left']['knee']['y'].dropna().values\n",
    "lhx = pat_df['left']['hip']['x'].dropna().values\n",
    "lhy = pat_df['left']['hip']['y'].dropna().values\n",
    "\n",
    "t = np.linspace(0, 1, num=80)"
   ]
  },
  {
   "cell_type": "code",
   "execution_count": 6,
   "metadata": {},
   "outputs": [
    {
     "data": {
      "text/plain": [
       "[<matplotlib.lines.Line2D at 0xfbf92bdf28>,\n",
       " <matplotlib.lines.Line2D at 0xfbf92ca0b8>]"
      ]
     },
     "execution_count": 6,
     "metadata": {},
     "output_type": "execute_result"
    },
    {
     "data": {
      "image/png": "[encoded data removed]",
      "text/plain": [
       "<Figure size 432x288 with 1 Axes>"
      ]
     },
     "metadata": {},
     "output_type": "display_data"
    }
   ],
   "source": [
    "# поправить \"хвосты\" у графиков\n",
    "r_knee = np.poly1d(np.polyfit(rkx, rky, deg=12))(t)\n",
    "r_hip = np.poly1d(np.polyfit(rhx, rhy, deg=12))(t)\n",
    "l_knee = np.poly1d(np.polyfit(lkx, lky, deg=12))(t)\n",
    "l_hip = np.poly1d(np.polyfit(lhx, lhy, deg=12))(t)\n",
    "\n",
    "\n",
    "plt.plot(r_knee, r_hip, 'r', l_knee, l_hip, 'b')"
   ]
  },
  {
   "cell_type": "code",
   "execution_count": 7,
   "metadata": {},
   "outputs": [],
   "source": [
    "from scipy.spatial import procrustes as proc"
   ]
  },
  {
   "cell_type": "code",
   "execution_count": 22,
   "metadata": {},
   "outputs": [
    {
     "data": {
      "text/plain": [
       "(80,)"
      ]
     },
     "execution_count": 22,
     "metadata": {},
     "output_type": "execute_result"
    }
   ],
   "source": [
    "r_knee.shape"
   ]
  },
  {
   "cell_type": "code",
   "execution_count": 23,
   "metadata": {},
   "outputs": [
    {
     "data": {
      "text/plain": [
       "(2, 80)"
      ]
     },
     "execution_count": 23,
     "metadata": {},
     "output_type": "execute_result"
    }
   ],
   "source": [
    "np.array([r_knee, r_hip]).shape"
   ]
  },
  {
   "cell_type": "code",
   "execution_count": 26,
   "metadata": {},
   "outputs": [
    {
     "data": {
      "text/plain": [
       "(80, 2)"
      ]
     },
     "execution_count": 26,
     "metadata": {},
     "output_type": "execute_result"
    }
   ],
   "source": [
    "np.array([r_knee, r_hip]).T.shape"
   ]
  },
  {
   "cell_type": "code",
   "execution_count": 27,
   "metadata": {},
   "outputs": [
    {
     "name": "stdout",
     "output_type": "stream",
     "text": [
      "Procrustes result:  (2, 80)\n"
     ]
    }
   ],
   "source": [
    "right_standard, left_matched, disparity = proc(np.array([r_knee, r_hip]).T, np.array([l_knee, l_hip]).T)\n",
    "\n",
    "\n",
    "print('Procrustes result: ', proc_result[0].shape)"
   ]
  },
  {
   "cell_type": "code",
   "execution_count": 28,
   "metadata": {},
   "outputs": [
    {
     "data": {
      "text/plain": [
       "[<matplotlib.lines.Line2D at 0xfbfc040cc0>,\n",
       " <matplotlib.lines.Line2D at 0xfbfc040e10>,\n",
       " <matplotlib.lines.Line2D at 0xfbfc0486a0>,\n",
       " <matplotlib.lines.Line2D at 0xfbfc0487f0>]"
      ]
     },
     "execution_count": 28,
     "metadata": {},
     "output_type": "execute_result"
    },
    {
     "data": {
      "image/png": "[encoded data removed]",
      "text/plain": [
       "<Figure size 432x288 with 1 Axes>"
      ]
     },
     "metadata": {},
     "output_type": "display_data"
    }
   ],
   "source": [
    "right_standard = proc_result[0].T\n",
    "left_matched = proc_result[1].T\n",
    "\n",
    "\n",
    "plt.plot(right_standard, 'r', left_matched, '--b')\n"
   ]
  },
  {
   "cell_type": "code",
   "execution_count": 20,
   "metadata": {},
   "outputs": [
    {
     "name": "stdout",
     "output_type": "stream",
     "text": [
      "disparity:  1.306465527798833e-28\n"
     ]
    }
   ],
   "source": [
    "print('disparity: ', disparity)"
   ]
  },
  {
   "cell_type": "code",
   "execution_count": null,
   "metadata": {},
   "outputs": [],
   "source": []
  }
 ],
 "metadata": {
  "kernelspec": {
   "display_name": "Python 3",
   "language": "python",
   "name": "python3"
  },
  "language_info": {
   "codemirror_mode": {
    "name": "ipython",
    "version": 3
   },
   "file_extension": ".py",
   "mimetype": "text/x-python",
   "name": "python",
   "nbconvert_exporter": "python",
   "pygments_lexer": "ipython3",
   "version": "3.6.5"
  }
 },
 "nbformat": 4,
 "nbformat_minor": 2
}
